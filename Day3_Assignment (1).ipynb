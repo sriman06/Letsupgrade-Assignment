{
 "cells": [
  {
   "cell_type": "markdown",
   "metadata": {},
   "source": [
    "# Question 1\n",
    "\n",
    "Write a Python program to remove duplicates from a list"
   ]
  },
  {
   "cell_type": "code",
   "execution_count": 1,
   "metadata": {},
   "outputs": [],
   "source": [
    "l1 = [1,2,3,4,3,4,11,2,3]"
   ]
  },
  {
   "cell_type": "code",
   "execution_count": 2,
   "metadata": {},
   "outputs": [],
   "source": [
    "# Remove duplicates\n",
    "new_list =[]\n",
    "for ele in l1:\n",
    "    if ele in new_list:\n",
    "        pass\n",
    "    else: new_list.append(ele)"
   ]
  },
  {
   "cell_type": "code",
   "execution_count": 3,
   "metadata": {},
   "outputs": [
    {
     "data": {
      "text/plain": [
       "[1, 2, 3, 4, 11]"
      ]
     },
     "execution_count": 3,
     "metadata": {},
     "output_type": "execute_result"
    }
   ],
   "source": [
    "new_list"
   ]
  },
  {
   "cell_type": "markdown",
   "metadata": {},
   "source": [
    "# Question 2\n",
    "Write a Python program to get the difference between the two lists\n",
    "\n"
   ]
  },
  {
   "cell_type": "code",
   "execution_count": 5,
   "metadata": {},
   "outputs": [],
   "source": [
    "list1 = ['a', 'b', 'c', 'd', 'e', 'f']\n",
    "list2 = ['a', 'c', 'e', 'g', 'h', 'k']"
   ]
  },
  {
   "cell_type": "code",
   "execution_count": null,
   "metadata": {},
   "outputs": [],
   "source": []
  },
  {
   "cell_type": "code",
   "execution_count": 8,
   "metadata": {},
   "outputs": [],
   "source": [
    "diff = []\n",
    "for ele in list1: \n",
    "    if ele in list2:\n",
    "        pass\n",
    "    else:\n",
    "        diff.append(ele)"
   ]
  },
  {
   "cell_type": "code",
   "execution_count": 9,
   "metadata": {},
   "outputs": [
    {
     "data": {
      "text/plain": [
       "['b', 'd', 'f']"
      ]
     },
     "execution_count": 9,
     "metadata": {},
     "output_type": "execute_result"
    }
   ],
   "source": [
    "diff"
   ]
  },
  {
   "cell_type": "markdown",
   "metadata": {},
   "source": [
    "\n",
    "# Question 3\n",
    "Write a Python program to get the frequency of the elements in a list"
   ]
  },
  {
   "cell_type": "code",
   "execution_count": 14,
   "metadata": {},
   "outputs": [
    {
     "name": "stdout",
     "output_type": "stream",
     "text": [
      "1 - 3\n",
      "2 - 1\n",
      "3 - 2\n",
      "4 - 1\n",
      "5 - 2\n"
     ]
    }
   ],
   "source": [
    "list_1 = [1, 1, 2, 3, 4, 5, 5,3,1]\n",
    "# Convert the list to set\n",
    "set0 = set(list_1)\n",
    "# For each unique element for set, count elements in the list to get frequency\n",
    "for ele in set0: print(ele,\"-\",list_1.count(ele))"
   ]
  },
  {
   "cell_type": "markdown",
   "metadata": {},
   "source": [
    "# Question 4\n",
    "Write a Python program to compute the similarity between two lists.\n",
    "\n",
    "Sample data: [\"red\", \"orange\", \"green\", \"blue\", \"white\"], [\"black\", \"yellow\", \"green\", \"blue\"]\n",
    "\n",
    "Expected Output: Color1-Color2: ['white', 'orange', 'red'] Color2-Color1: ['black', 'yellow']"
   ]
  },
  {
   "cell_type": "code",
   "execution_count": 15,
   "metadata": {},
   "outputs": [
    {
     "name": "stdout",
     "output_type": "stream",
     "text": [
      "Color1-Color2: ['red', 'orange', 'white']\n",
      "Color2-Color1: ['black', 'yellow']\n"
     ]
    }
   ],
   "source": [
    "Color1 = [\"red\", \"orange\", \"green\", \"blue\", \"white\"]\n",
    "Color2 = [\"black\", \"yellow\", \"green\", \"blue\"]\n",
    "\n",
    "diff = []\n",
    "for ele in Color1: # list1 - list2\n",
    "    if ele in Color2:\n",
    "        pass\n",
    "    else:\n",
    "        diff.append(ele)\n",
    "print(\"Color1-Color2:\",diff)\n",
    "\n",
    "diff = []\n",
    "for ele in Color2: # list1 - list2\n",
    "    if ele in Color1:\n",
    "        pass\n",
    "    else:\n",
    "        diff.append(ele)\n",
    "print(\"Color2-Color1:\",diff)"
   ]
  },
  {
   "cell_type": "markdown",
   "metadata": {},
   "source": [
    "# Question 5\n",
    "Write a Python function that takes a list of words and returns the length of the longest one"
   ]
  },
  {
   "cell_type": "code",
   "execution_count": 16,
   "metadata": {},
   "outputs": [
    {
     "name": "stdout",
     "output_type": "stream",
     "text": [
      "orange\n",
      "yellow\n"
     ]
    }
   ],
   "source": [
    "def longest_one(list):\n",
    "    longest_one = \"\"\n",
    "    for ele in list:\n",
    "        if len(ele) > len(longest_one):\n",
    "            longest_one = ele\n",
    "        else: pass\n",
    "    return longest_one\n",
    "\n",
    "Color1 = [\"red\", \"orange\", \"green\", \"blue\", \"white\"]\n",
    "Color2 = [\"black\", \"yellow\", \"green\", \"blue\"]\n",
    "\n",
    "print(longest_one(Color1))\n",
    "print(longest_one(Color2))"
   ]
  },
  {
   "cell_type": "markdown",
   "metadata": {},
   "source": [
    "# Question 6\n",
    "Write a Python program to count the occurrences of each word in a given sentence"
   ]
  },
  {
   "cell_type": "code",
   "execution_count": 17,
   "metadata": {},
   "outputs": [
    {
     "name": "stdout",
     "output_type": "stream",
     "text": [
      "given - 1\n",
      "sentence - 1\n",
      "word - 1\n",
      "Write - 1\n",
      "Python - 1\n",
      "to - 1\n",
      "of - 1\n",
      "occurrences - 1\n",
      "each - 1\n",
      "count - 1\n",
      "in - 1\n",
      "a - 2\n",
      "program - 1\n",
      "the - 1\n"
     ]
    }
   ],
   "source": [
    "sequence = \"Write a Python program to count the occurrences of each word in a given sentence\"\n",
    "\n",
    "list_1 = sequence.split() \n",
    "# Convert the list to set\n",
    "set0 = set(list_1)\n",
    "\n",
    "for ele in set0: print(ele,\"-\",list_1.count(ele))"
   ]
  },
  {
   "cell_type": "markdown",
   "metadata": {},
   "source": [
    "# Question 7\n",
    "Write a Python program to count and display the vowels of a given text"
   ]
  },
  {
   "cell_type": "code",
   "execution_count": 18,
   "metadata": {},
   "outputs": [
    {
     "data": {
      "text/plain": [
       "{'a': 5, 'e': 5, 'i': 3, 'o': 6, 'u': 1}"
      ]
     },
     "execution_count": 18,
     "metadata": {},
     "output_type": "execute_result"
    }
   ],
   "source": [
    "text = \"Write a Python program to count and display the vowels of a given text\"\n",
    "\n",
    "def vowels_count(t):\n",
    "    vowels = ['a', 'e', 'i', 'o', 'u']\n",
    "    dict_vowels = {'a' : 0, 'e' : 0, 'i' : 0, 'o' : 0, 'u' : 0}\n",
    "    for ele in vowels:\n",
    "        dict_vowels[ele] = t.count(ele) \n",
    "    return dict_vowels\n",
    "\n",
    "vowels_count(text)"
   ]
  },
  {
   "cell_type": "markdown",
   "metadata": {},
   "source": [
    "# Question 8\n",
    "Write a Python script to generate and print a dictionary that contains a number (between 1 and n) in the form (x, x*x)"
   ]
  },
  {
   "cell_type": "code",
   "execution_count": 19,
   "metadata": {},
   "outputs": [
    {
     "data": {
      "text/plain": [
       "dict_items([(1, '1'), (2, '4'), (3, '9'), (4, '16'), (5, '25'), (6, '36'), (7, '49'), (8, '64'), (9, '81')])"
      ]
     },
     "execution_count": 19,
     "metadata": {},
     "output_type": "execute_result"
    }
   ],
   "source": [
    "result={}\n",
    "for x in range(1,10):\n",
    "    result[x] = str(x*x)\n",
    "result.items()"
   ]
  },
  {
   "cell_type": "markdown",
   "metadata": {},
   "source": [
    "# Question 9\n",
    "Write a Python program to combine two dictionary adding values for common keys\n",
    "\n",
    "● d1 = {'a': 100, 'b': 200, 'c':300}\n",
    "\n",
    "● d2 = {'a': 300, 'b': 200, 'd':400}\n",
    "\n",
    "● Sample output: Counter({'a': 400, 'b': 400, 'd': 400, 'c': 300})"
   ]
  },
  {
   "cell_type": "code",
   "execution_count": 20,
   "metadata": {},
   "outputs": [],
   "source": [
    "d1 = {'a': 100, 'b': 200, 'c':300}\n",
    "d2 = {'a': 300, 'b': 200, 'd':400}"
   ]
  },
  {
   "cell_type": "code",
   "execution_count": 21,
   "metadata": {},
   "outputs": [
    {
     "data": {
      "text/plain": [
       "{'a': 400, 'b': 400, 'c': 300, 'd': 400}"
      ]
     },
     "execution_count": 21,
     "metadata": {},
     "output_type": "execute_result"
    }
   ],
   "source": [
    "counter = {} # Create blank dictionary\n",
    "\n",
    "for item in d1: # dictionary 1\n",
    "    if item in d2:\n",
    "        counter[item] = d1.get(item) + d2.get(item)\n",
    "    else:\n",
    "        counter[item] = d1.get(item)\n",
    "\n",
    "for item in d2: # dictionary 2\n",
    "    if item in d1: pass\n",
    "    else:\n",
    "        counter[item] = d2.get(item)\n",
    "\n",
    "# Print dictionary\n",
    "counter"
   ]
  },
  {
   "cell_type": "markdown",
   "metadata": {},
   "source": [
    "# Question 10\n",
    "Write a Python program to print all unique values in a dictionary\n",
    "\n",
    "● Sample Data : [{\"V\":\"S001\"}, {\"V\": \"S002\"}, {\"VI\": \"S001\"}, {\"VI\": \"S005\"}, {\"VII\":\"S005\"},{\"V\":\"S009\"},{\"VIII\":\"S007\"}]\n",
    "\n",
    "● Expected Output : Unique Values: {'S005', 'S002', 'S007', 'S001', 'S009'}"
   ]
  },
  {
   "cell_type": "code",
   "execution_count": 22,
   "metadata": {},
   "outputs": [],
   "source": [
    "list_of_dic = [{\"V\":\"S001\"}, {\"V\": \"S002\"}, {\"VI\": \"S001\"}, {\"VI\": \"S005\"}, {\"VII\":\"S005\"},{\"V\":\"S009\"},{\"VIII\":\"S007\"}]"
   ]
  },
  {
   "cell_type": "code",
   "execution_count": 24,
   "metadata": {},
   "outputs": [
    {
     "name": "stdout",
     "output_type": "stream",
     "text": [
      "Unique Values:  ['S001', 'S002', 'S005', 'S007', 'S009']\n"
     ]
    }
   ],
   "source": [
    "\n",
    "u_value = set(val for dic in list_of_dic for val in dic.values())\n",
    "print(\"Unique Values: \",sorted(u_value))"
   ]
  },
  {
   "cell_type": "code",
   "execution_count": null,
   "metadata": {},
   "outputs": [],
   "source": []
  },
  {
   "cell_type": "code",
   "execution_count": null,
   "metadata": {},
   "outputs": [],
   "source": []
  }
 ],
 "metadata": {
  "kernelspec": {
   "display_name": "Python 3",
   "language": "python",
   "name": "python3"
  },
  "language_info": {
   "codemirror_mode": {
    "name": "ipython",
    "version": 3
   },
   "file_extension": ".py",
   "mimetype": "text/x-python",
   "name": "python",
   "nbconvert_exporter": "python",
   "pygments_lexer": "ipython3",
   "version": "3.8.5"
  }
 },
 "nbformat": 4,
 "nbformat_minor": 4
}
