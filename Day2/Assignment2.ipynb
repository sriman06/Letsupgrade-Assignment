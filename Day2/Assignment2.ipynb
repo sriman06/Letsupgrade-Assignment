{
 "cells": [
  {
   "cell_type": "markdown",
   "metadata": {},
   "source": [
    "# User login/password portal\n",
    "The user will get maximum 5 tries for the password."
   ]
  },
  {
   "cell_type": "code",
   "execution_count": 5,
   "metadata": {},
   "outputs": [
    {
     "name": "stdout",
     "output_type": "stream",
     "text": [
      "Please provide your username: LETS123\n",
      "Please provide your password: XSSF\n",
      "Incorrect password, please try again: VDGDGF\n",
      "You have used your  1  of 5 tries.\n",
      "Incorrect password, please try again: VDGHJ\n",
      "You have used your  2  of 5 tries.\n",
      "Incorrect password, please try again: WEQE\n",
      "You have used your  3  of 5 tries.\n",
      "Incorrect password, please try again: EWEWR\n",
      "You have used your  4  of 5 tries.\n",
      "Incorrect password, please try again: WRRHN\n",
      "You have used your  5  of 5 tries.\n",
      "ACCOUNT BLOCKED!!!\n",
      "TRY AFTER 24 HOURS!!\n"
     ]
    }
   ],
   "source": [
    "username = \"LETS123\"\n",
    "password = \"UPGRADE\"\n",
    "\n",
    "user1 = input(\"Please provide your username: \")\n",
    "pass1 = input(\"Please provide your password: \")\n",
    "\n",
    "\n",
    "tries = 0\n",
    "if username == user1 and password == pass1:\n",
    "    print(\"Login Sucessful!\")\n",
    "elif username != user1:\n",
    "    print(\"Username invalid!\")\n",
    "elif password != pass1:\n",
    "    while tries<5:\n",
    "        pass1 = input(\"Incorrect password, please try again: \")\n",
    "        if password == pass1:\n",
    "            print(\"Login sucessful!\")\n",
    "            break\n",
    "        tries += 1\n",
    "        print(\"You have used your \",tries,\" of 5 tries.\")\n",
    "    print(\"ACCOUNT BLOCKED!!!\\nTRY AFTER 24 HOURS!!\")   "
   ]
  },
  {
   "cell_type": "code",
   "execution_count": null,
   "metadata": {},
   "outputs": [],
   "source": []
  }
 ],
 "metadata": {
  "kernelspec": {
   "display_name": "Python 3",
   "language": "python",
   "name": "python3"
  },
  "language_info": {
   "codemirror_mode": {
    "name": "ipython",
    "version": 3
   },
   "file_extension": ".py",
   "mimetype": "text/x-python",
   "name": "python",
   "nbconvert_exporter": "python",
   "pygments_lexer": "ipython3",
   "version": "3.8.5"
  }
 },
 "nbformat": 4,
 "nbformat_minor": 4
}
